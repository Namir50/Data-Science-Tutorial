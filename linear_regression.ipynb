{
 "cells": [
  {
   "cell_type": "code",
   "execution_count": null,
   "metadata": {},
   "outputs": [],
   "source": [
    "#Regression analysis is a form of predictive modelling technique which investigates the relationship between a dependent variable and independent variable \n",
    "#Major uses for regression analysis: Determining strength of predictors(independent variable), Forecasting an effect and Trend forecasting\n",
    "#Computational compllexity of linear regression is usually O(n^2) or O(n)\n",
    "#Equation y = mx + c, y is the depedent variable, m is the slope of line, x is the independent variable , c is sthe y intercept\n",
    "#Equation for negative relation y = -mx + c\n",
    "###\n",
    "\n"
   ]
  },
  {
   "cell_type": "code",
   "execution_count": null,
   "metadata": {},
   "outputs": [],
   "source": []
  },
  {
   "cell_type": "code",
   "execution_count": null,
   "metadata": {},
   "outputs": [],
   "source": []
  }
 ],
 "metadata": {
  "language_info": {
   "name": "python"
  }
 },
 "nbformat": 4,
 "nbformat_minor": 2
}
